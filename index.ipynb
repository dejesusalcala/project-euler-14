{
 "cells": [
  {
   "cell_type": "raw",
   "metadata": {},
   "source": [
    "---\n",
    "title: Longest Collatz Sequence\n",
    "subtitle: Problem \n",
    "author: \"Angel Alcala Ruiz\"\n",
    "date: \"January 31, 2024\"\n",
    "format:\n",
    "  html:\n",
    "    code-fold: show\n",
    "    code-tools: true\n",
    "    jupyter: julia-1.9\n",
    "---"
   ]
  },
  {
   "cell_type": "markdown",
   "metadata": {},
   "source": [
    "The following iterative sequence is defined for the set of positive integers:\n",
    "\n",
    "$$\n",
    "\\begin{align*}\n",
    " n & \\rightarrow n/2 \\quad \\left(n \\ \\text{is even}\\right) \\\\\n",
    " n & \\rightarrow 3n + 1 \\quad \\left(n \\ \\text{is odd}\\right)\n",
    " \\end{align*}\n",
    " $$\n",
    "\n",
    "Using the rule above and starting with \n",
    ", we generate the following sequence:\n",
    "\n",
    "$$\n",
    "13 \\rightarrow 40 \\rightarrow 20 \\rightarrow 10 \\rightarrow 5 \\rightarrow 16 \\rightarrow 8 \\rightarrow 4 \\rightarrow 2 \\rightarrow 1\n",
    "$$\n",
    "\n",
    "It can be seen that this sequence (starting at $13$ and finishing at $1$) contains $10$ terms. Although it has not been proved yet (Collatz Problem), it is thought that all starting numbers finish at $1$.\n",
    "\n",
    "Which starting number, under one million, produces the longest chain?\n",
    "\n",
    "**NOTE:** Once the chain starts the terms are allowed to go above one million."
   ]
  }
 ],
 "metadata": {
  "language_info": {
   "name": "python"
  }
 },
 "nbformat": 4,
 "nbformat_minor": 2
}
